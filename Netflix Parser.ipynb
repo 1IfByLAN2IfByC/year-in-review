{
 "cells": [
  {
   "cell_type": "code",
   "execution_count": 58,
   "metadata": {
    "collapsed": false
   },
   "outputs": [
    {
     "name": "stdout",
     "output_type": "stream",
     "text": [
      "Once deleted, variables cannot be recovered. Proceed (y/[n])? y\n"
     ]
    }
   ],
   "source": [
    "reset"
   ]
  },
  {
   "cell_type": "code",
   "execution_count": 310,
   "metadata": {
    "collapsed": false
   },
   "outputs": [],
   "source": [
    "import bs4, re\n",
    "import numpy as np\n",
    "import pandas as pd\n",
    "from pandas import DataFrame\n",
    "from collections import Counter\n",
    "import plotly.plotly as py\n",
    "import cufflinks\n",
    "\n",
    "py.sign_in('1IfByLAN2IfByC','r50yawfp79')\n"
   ]
  },
  {
   "cell_type": "code",
   "execution_count": 68,
   "metadata": {
    "collapsed": true
   },
   "outputs": [],
   "source": [
    "### LOAD IN THE HTML FILE TO A LIST\n",
    "\n",
    "filename = '/Users/michael/Desktop/Netflix.html'\n",
    "with open(filename) as f:\n",
    "    HTML = f.read()"
   ]
  },
  {
   "cell_type": "code",
   "execution_count": 169,
   "metadata": {
    "collapsed": false
   },
   "outputs": [],
   "source": [
    "parsedHTML = bs4.BeautifulSoup(HTML)\n"
   ]
  },
  {
   "cell_type": "code",
   "execution_count": 306,
   "metadata": {
    "collapsed": false
   },
   "outputs": [],
   "source": [
    "def netflixParser(HTMLstring):\n",
    "    parsedHTML = bs4.BeautifulSoup(HTML)\n",
    "\n",
    "    names = parsedHTML.findAll('div', attrs={'class':'col title'})\n",
    "    dates = parsedHTML.findAll('div', attrs={'class':'col date nowrap'})\n",
    "    \n",
    "    if len(names) != len(dates):\n",
    "        assert len(names) == len(dates)\n",
    "    \n",
    "    ## construct a dataframe\n",
    "    netflix = np.zeros((len(names), 3))\n",
    "    netflix = DataFrame(netflix, columns=['Date','Series Name', 'Episode Name'])\n",
    "    \n",
    "    \n",
    "    ## loop through the name/date list and extract\n",
    "    for i in range(len(names)):\n",
    "        try:\n",
    "            name = names[i].find('span', attrs={'class': 'seriestitle'})\n",
    "            netflix['Series Name'].iloc[i] = name.text   \n",
    "            netflix['Date'].loc[i] = dates[i].text\n",
    "            netflix['Episode Name'].iloc[i] = re.findall(r'\\</span>:(.*?)\\</a>', str(names[i]))[0]\n",
    "        except AttributeError:\n",
    "            pass\n",
    "        \n",
    "\n",
    "    ## clean up the zeros\n",
    "    netflix = netflix[netflix.Date != 0]\n",
    "    ## make new dataframe \n",
    "    showCounts = Counter(netflix['Series Name'])\n",
    "    showCounts = netflix.from_dict(showCounts, orient='index')\n",
    "    showCounts.columns = [ 'Count']\n",
    "    showCounts = showCounts.sort('Count', ascending=False)\n",
    "    return netflix, showCounts\n",
    "\n",
    "    "
   ]
  },
  {
   "cell_type": "code",
   "execution_count": 307,
   "metadata": {
    "collapsed": false
   },
   "outputs": [],
   "source": [
    "netflix, showCounts = netflixParser(HTML)"
   ]
  },
  {
   "cell_type": "code",
   "execution_count": 317,
   "metadata": {
    "collapsed": false,
    "scrolled": true
   },
   "outputs": [
    {
     "data": {
      "text/html": [
       "<iframe id=\"igraph\" scrolling=\"no\" style=\"border:none;\"seamless=\"seamless\" src=\"https://plot.ly/~1IfByLAN2IfByC/484.embed\" height=\"525px\" width=\"100%\"></iframe>"
      ],
      "text/plain": [
       "<plotly.tools.PlotlyDisplay object>"
      ]
     },
     "execution_count": 317,
     "metadata": {},
     "output_type": "execute_result"
    }
   ],
   "source": [
    "showCounts.iplot(kind='scatter', mode='markers', y='Count', world_readable=True)"
   ]
  },
  {
   "cell_type": "code",
   "execution_count": null,
   "metadata": {
    "collapsed": true
   },
   "outputs": [],
   "source": []
  }
 ],
 "metadata": {
  "kernelspec": {
   "display_name": "Python 2",
   "language": "python",
   "name": "python2"
  },
  "language_info": {
   "codemirror_mode": {
    "name": "ipython",
    "version": 2
   },
   "file_extension": ".py",
   "mimetype": "text/x-python",
   "name": "python",
   "nbconvert_exporter": "python",
   "pygments_lexer": "ipython2",
   "version": "2.7.10"
  }
 },
 "nbformat": 4,
 "nbformat_minor": 0
}
