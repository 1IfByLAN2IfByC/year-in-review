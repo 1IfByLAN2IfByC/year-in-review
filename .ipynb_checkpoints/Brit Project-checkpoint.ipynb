{
 "cells": [
  {
   "cell_type": "code",
   "execution_count": null,
   "metadata": {
    "collapsed": false
   },
   "outputs": [],
   "source": [
    "reset "
   ]
  },
  {
   "cell_type": "code",
   "execution_count": null,
   "metadata": {
    "collapsed": false
   },
   "outputs": [],
   "source": [
    "#### Importing tools that I need\n",
    "\n",
    "import os, datetime, csv, pdb, time, multiprocessing\n",
    "import pandas as pd\n",
    "from scipy import stats\n",
    "import numpy as np\n",
    "import cPickle as pickle\n",
    "import matplotlib.pylab as plt\n",
    "import plotly.plotly as py\n",
    "import plotly.tools as tls\n",
    "import cufflinks as cf\n",
    "import re\n",
    "from pandas import DataFrame\n",
    "from collections import Counter\n",
    "from joblib import Parallel, delayed\n",
    "from joblib.pool import has_shareable_memory\n",
    "\n",
    "py.sign_in('1IfByLAN2IfByC','r50yawfp79')\n"
   ]
  },
  {
   "cell_type": "code",
   "execution_count": null,
   "metadata": {
    "collapsed": false
   },
   "outputs": [],
   "source": [
    "#### Dynamic Variables\n",
    "#### These are what I have to change, think configuration settings\n",
    "#### To search just one phone number, input number after /baskup-master/...\n",
    "\n",
    "folder = '/Users/michael/Desktop/FOR MIKE/baskup-master/+15129718454/'\n",
    "fillist = os.listdir(folder)\n",
    "\n",
    "## if you're looking for just a single person, change the above folder \n",
    "## to point to the directory of the number and SET THIS TO TRUE\n",
    "singleDir = True\n",
    "\n",
    "## to look for just one person, set JUSTNUM to True \n",
    "## to look for everyone, set JUSTNUM to False\n",
    "## AND fill in a phonenumber in form '15124618901'\n",
    "JUSTNUM = True\n",
    "\n",
    "## put the 1 and dont put no spaces of any of that snooty shit\n",
    "## this is used to query the database\n",
    "## used in conjunction with just num\n",
    "PHONENUMBER = '15124618901'\n",
    "\n",
    "## need this for turning the 1 | 0 in the databased into your phone number\n",
    "YOURPHONENUMBER = '15124618901'\n",
    "\n",
    "## how far back do you want to go?\n",
    "## to go back for all of time, set days back to 0\n",
    "days_back = 365\n",
    "\n",
    "## how many words are the \"top words\"?\n",
    "topWordCount = 100"
   ]
  },
  {
   "cell_type": "code",
   "execution_count": null,
   "metadata": {
    "collapsed": false
   },
   "outputs": [],
   "source": [
    "#### Go through each sub-folder and folder directory (where folder is defined above ) and read all texts into a list of strings. \n",
    "\n",
    "\n",
    "# mac to unix time delta (functions that turns strings into date/time)\n",
    "mac2unix = 978304445\n",
    "date =lambda tt: datetime.datetime.fromtimestamp(tt).strftime('%m-%d-%Y ')\n",
    "time = lambda tt: datetime.datetime.fromtimestamp(tt).strftime('%H:%M:%S')\n",
    "dateAndTime = lambda tt: datetime.datetime.fromtimestamp(tt).strftime('%m-%d-%Y %H:%M:%S')\n",
    "\n",
    "#initializing (making boxes and naming them)\n",
    "cleanTextList = []    \n",
    "parsedTexts = []\n",
    "i=0\n",
    "\n",
    "# for all folder in the master dir (fillist)\n",
    "for i in range(len(fillist)):\n",
    "    os.chdir(folder)\n",
    "    \n",
    "    # go into folder \n",
    "    if singleDir == False:\n",
    "        if os.path.isdir(fillist[i]):\n",
    "            os.chdir(folder+fillist[i])\n",
    "    else:\n",
    "        textfiles = os.listdir(os.getcwd())\n",
    "        SENDING_NUMBER = ''.join([s for s in fillist[i] if s.isdigit()])\n",
    "        # jj is another term for index in this case\n",
    "        for jj in range(len(textfiles)):\n",
    "            if textfiles[jj].endswith('.txt'):\n",
    "                with open(textfiles[jj]) as f:\n",
    "                    text = f.readlines()\n",
    "                    \n",
    "                #Line (string)\n",
    "                #1 means me, 0 means other person\n",
    "                for line in text:\n",
    "                    if line[0] == '1':\n",
    "                        line = YOURPHONENUMBER + line[1:]\n",
    "\n",
    "                    elif line[0] =='0':\n",
    "                        line = SENDING_NUMBER + line[1:]\n",
    "\n",
    "                    cleanTextList.append(line)\n",
    "                   \n",
    "                    # split a string into a list using our ||| delimiter\n",
    "                    newLine = line.split('|||')\n",
    "\n",
    "                    # error checking, get rid of new lines made in text messages\n",
    "                    if newLine[0].isdigit() == True:\n",
    "                   \n",
    "                        # convert to real times\n",
    "                        # date sent, date, received, sent\n",
    "                        newLine[1] = dateAndTime(int(newLine[1])+mac2unix)\n",
    "\n",
    "                        if int(newLine[2]) != 0:\n",
    "                            newLine[2] = dateAndTime(int(newLine[2]) + mac2unix)\n",
    "\n",
    "                        if int(newLine[3]) != 0:\n",
    "                            newLine[3] = dateAndTime(int(newLine[3])+mac2unix)\n",
    "\n",
    "                        ## turn into csv where each row represents a message                           \n",
    "                        parsedTexts.append(newLine)\n",
    "\n",
    "\n",
    "                    else: # its some fuckshit and we gonna delete it\n",
    "                        del newLine\n",
    "            \n",
    "## write all text to csv              \n",
    "with open(folder+'output.csv', 'wb') as f:\n",
    "    writer = csv.writer(f)\n",
    "    writer.writerows(parsedTexts)           \n",
    "        "
   ]
  },
  {
   "cell_type": "code",
   "execution_count": null,
   "metadata": {
    "collapsed": false
   },
   "outputs": [],
   "source": [
    "#### here we turn our list of text messages and dates etc. into a more readable format (data frame)\n",
    "\n",
    "headers = ['Sender', 'Date', 'Date Received', 'DateRead', 'Text']\n",
    "df = DataFrame(parsedTexts, columns=headers)\n",
    "\n",
    "# turn all the dates we parsed from strings into date+time\n",
    "strp = lambda date: datetime.datetime.strptime(date, '%m-%d-%Y %H:%M:%S')\n",
    "df['Date'] = [strp(d) for d in df['Date']]\n",
    "\n",
    "# make a column with just the day so we can compare easier\n",
    "df['Just Date'] = [d.date() for d in df['Date']]\n",
    "\n",
    "# \"\" with hours\n",
    "df['Just Hour'] = [d.hour for d in df['Date']]\n",
    "\n",
    "\n",
    "\n",
    "## if JUSTNUM (only looking for a specific phone number) is true, \n",
    "## then the new dataframe is equal to the old dataframe \n",
    "## but only where the sender was equal to the phonenumber of interest\n",
    "if JUSTNUM == True:\n",
    "    df = df[df['Sender'] == PHONENUMBER]\n",
    "            \n",
    "# function that takes in a unsorted dataframe\n",
    "# and organizes it into 24 periods to count and sort\n",
    "# text messages by date \n",
    "def volumeTextHour(df, daysBack):\n",
    "   \n",
    "    # first we collect all the date ranges\n",
    "    # slice the index to get data only from specified range\n",
    "    df = df.sort(columns='Just Date', ascending=True)\n",
    "  \n",
    "    # your new dataframe is equal to your old dataframe but only where your date is greater than today minus 365\n",
    "    if daysBack != 0:\n",
    "        df = df[df['Date'] > (datetime.datetime.now() - datetime.timedelta(days=365))]\n",
    "        \n",
    "    # remove duplicates \n",
    "    hours = [df['Date'].iloc[d].hour for d in range(len(df))]\n",
    "    sortedHours = list(set(hours)) \n",
    "    \n",
    "    # make an array so we can count, initializing dataframe \n",
    "    mostFrequentHour = np.zeros((len(sortedHours), 3))\n",
    "    mostFrequentHour = DataFrame(mostFrequentHour, columns=['Hour', 'Count', 'Messages'])\n",
    "\n",
    "    # make first row\n",
    "    for i in range(len(sortedHours)):\n",
    "        mostFrequentHour['Hour'].iloc[i] = sortedHours[i]\n",
    "        \n",
    "        # loop through all rows in the original dataframe \n",
    "        # if the date matches the sorted date i, append \n",
    "        # the text message to a the list for that day\n",
    "        message = [df['Text'].iloc[d] for d in range(len(df)) if df['Just Hour'].iloc[d] == sortedHours[i]]\n",
    "        mostFrequentHour['Messages'].iloc[i] = message\n",
    "\n",
    "        # find the number of texts for that day\n",
    "        mostFrequentHour['Count'].iloc[i] = len(mostFrequentHour['Messages'].iloc[i])\n",
    "  \n",
    "\n",
    "    print \"finished Hours\"\n",
    "    return mostFrequentHour\n",
    "\n",
    "\n",
    "#### same thing as above but for date\n",
    "def volumeTextDay(df, daysBack):\n",
    "     # slice the index to get data only from specified range\n",
    "    df = df.sort(columns='Just Date', ascending=True)\n",
    "    if daysBack != 0:\n",
    "        df = df[df['Date'] > (datetime.datetime.now() - datetime.timedelta(days=365))]\n",
    "    \n",
    "    dates = [df['Date'].iloc[d].date() for d in range(len(df))]\n",
    "    sortedDates = list(set(dates))\n",
    "    \n",
    "    # make an array so we can count \n",
    "    mostFrequentDay = np.zeros((len(sortedDates), 3))\n",
    "    mostFrequentDay = DataFrame(mostFrequentDay, columns=['Date', 'Count', 'Messages'])\n",
    "\n",
    "   \n",
    "    for i in range(len(sortedDates)):\n",
    "        mostFrequentDay['Date'].iloc[i] = sortedDates[i]\n",
    "        \n",
    "        # loop through all rows in the original dataframe \n",
    "        # if the date matches the sorted date i, append \n",
    "        # the text message to a the list for that day\n",
    "        message = [df['Text'].iloc[d] for d in range(len(df)) if df['Just Date'].iloc[d] == sortedDates[i]]\n",
    "        mostFrequentDay['Messages'].iloc[i] = message\n",
    "\n",
    "        # find the number of texts for that day\n",
    "        mostFrequentDay['Count'].iloc[i] = len(mostFrequentDay['Messages'].iloc[i]) \n",
    "      \n",
    "    print \"finished days\"\n",
    "    return mostFrequentDay\n",
    "\n",
    "def volumeTextMonth(df, daysBack):\n",
    "     # slice the index to get data only from specified range\n",
    "    df = df.sort(columns='Just Date', ascending=True)\n",
    "    if daysBack != 0:\n",
    "        df = df[df['Date'] > (datetime.datetime.now() - datetime.timedelta(days=365))]\n",
    "    \n",
    "    months = [df['Date'].iloc[d].month for d in range(len(df))]\n",
    "    sortedMonths = list(set(months))\n",
    "    \n",
    "    # make an array so we can count \n",
    "    mostFrequentMonth = np.zeros((len(sortedMonths), 3))\n",
    "    mostFrequentMonth = DataFrame(mostFrequentMonth, columns=['Month', 'Count', 'Messages'])\n",
    "\n",
    "   \n",
    "    for i in range(len(sortedMonths)):\n",
    "        mostFrequentMonth['Month'].iloc[i] = sortedMonths[i]\n",
    "        \n",
    "        # loop through all rows in the original dataframe \n",
    "        # if the date matches the sorted date i, append \n",
    "        # the text message to a the list for that day\n",
    "        message = [df['Text'].iloc[d] for d in range(len(df)) if df['Date'].iloc[d].month == sortedMonths[i]]\n",
    "        mostFrequentMonth['Messages'].iloc[i] = message\n",
    "\n",
    "        # find the number of texts for that day\n",
    "        mostFrequentMonth['Count'].iloc[i] = len(mostFrequentMonth['Messages'].iloc[i]) \n",
    "      \n",
    "    print \"finished months\"\n",
    "    return mostFrequentMonth\n",
    "\n",
    "\n",
    "#### goes through finds all words used, then searches all text messages and counts the number of \n",
    "#### and counts the number of times each word was used\n",
    "def wordCounts(df, daysBack):\n",
    "    \n",
    "    ## slice the index to get data only from specified range\n",
    "    df = df.sort(columns='Just Date', ascending=True)\n",
    "    if daysBack != 0:\n",
    "        df = df[df['Date'] > (datetime.datetime.now() - datetime.timedelta(days=365))]\n",
    "    \n",
    "    ## joining all values inside lists into one string\n",
    "    ## find each unique word and make it a corpus (dictionary)\n",
    "    ## corpus has each unique word\n",
    "    ## export final dataframe with each unique word (for the count)\n",
    "    word = ';'.join(df['Text']).lower()\n",
    "    corpus = re.compile('\\w+').findall(word)\n",
    "    corpus = list(set(corpus))\n",
    "    word_dataframe = np.zeros((len(corpus), 2))\n",
    "    word_dataframe = DataFrame(word_dataframe, columns=['Word', 'Count'])\n",
    "    word_dataframe['Word'] = corpus\n",
    "\n",
    "    \n",
    "    print \"the total word count is: {total} \\n the number of unique words is: {unique}\".format(\n",
    "    total=len(word), unique=len(corpus))\n",
    "    ## output dataframe and string of all words\n",
    "    return word_dataframe, word\n",
    "\n",
    "\n",
    "#### for each row in wordDF (in this case a unique word used in conversations)\n",
    "#### the count (number of times it was said) is equal to the sum of each unique word \n",
    "#### in wordString (long string of all texts)\n",
    "def wordCountParFor(wordDF, wordString):\n",
    "    for i in range(len(wordDF)):\n",
    "        wordDF['Count'].iloc[i] = sum(1 for _ in \\\n",
    "            re.finditer(r'\\b%s\\b' % re.escape(wordDF['Word'].iloc[i]), wordString))\n",
    "    ## export updated dataframe (with count)\n",
    "    print \"finished counting all the words\"\n",
    "    return wordDF\n",
    "\n",
    "#### defining functions for regular expressions (natural language processing)\n",
    "def topWordsFind(numWords, wordCount):\n",
    "    wordCount = wordCount.sort(columns='Count',ascending=False)\n",
    "    topWords = wordCount[0:numWords]\n",
    "    return topWords\n",
    "\n",
    "#### look for words, red section will have word you're looking for\n",
    "#### good for words not phrases\n",
    "def wordSearch(wordCount, word):\n",
    "    print wordCount.iloc[wordCount['Word'] == word]\n",
    "    "
   ]
  },
  {
   "cell_type": "code",
   "execution_count": null,
   "metadata": {
    "collapsed": false
   },
   "outputs": [],
   "source": [
    "#### using the functions defined above \n",
    "\n",
    "## DAY\n",
    "#use the function\n",
    "mostFrequentDay = volumeTextDay(df, days_back)\n",
    "#reset the index to date\n",
    "mostFrequentDay = mostFrequentDay.set_index('Date')\n",
    "#sort \n",
    "mostFrequentDay = mostFrequentDay.sort(ascending=False)\n",
    "\n",
    "## HOUR\n",
    "#use the function\n",
    "mostFrequentHour = volumeTextHour(df, days_back)\n",
    "#reset the index to hour\n",
    "mostFrequentHour = mostFrequentHour.set_index('Hour')\n",
    "#sort\n",
    "mostFrequentHour = mostFrequentHour.sort(ascending=False)\n",
    "\n",
    "## MONTH\n",
    "#use the function\n",
    "mostFrequentMonth = volumeTextMonth(df, days_back)\n",
    "#reset the index to month\n",
    "mostFrequentMonth = mostFrequentMonth.set_index('Month')\n",
    "#sort\n",
    "mostFrequentMonth = mostFrequentMonth.sort(ascending=False)\n",
    "\n",
    "#use function\n",
    "wordCount, wordString = wordCounts(df, days_back)\n",
    "#split word count into 5 equal pieces (for parallel processing)\n",
    "splitWordCount = np.array_split(wordCount, 5)\n",
    "\n",
    "# use 5 cores with each searching one chunk of wordCount\n",
    "result = Parallel(n_jobs=5)(delayed(wordCountParFor)(splitWordCount[i], wordString) for i in range(5))\n",
    "wordCount = pd.concat(result, axis=0)\n",
    "wordCount = wordCount.sort(columns='Count', ascending=False)\n",
    "\n",
    "## write to csv\n",
    "##file naming\n",
    "if JUSTNUM == True:\n",
    "    filename = folder+'/wordCount_'+PHONENUMBER+'.csv'\n",
    "else:\n",
    "    filename = folder+'/wordCount_everyone.csv'\n",
    "wordCount.to_csv(filename)\n",
    "\n",
    "#find top words and print done\n",
    "topWord = topWordsFind(topWordCount, wordCount)\n"
   ]
  },
  {
   "cell_type": "code",
   "execution_count": null,
   "metadata": {
    "collapsed": false
   },
   "outputs": [],
   "source": [
    "#### store the important values for comparing the communication between two people\n",
    "if JUSTNUM == True:\n",
    "    YOURNUMBERDATA = [mostFrequentMonth, mostFrequentDay, mostFrequentHour, wordCount, wordString]\n",
    "    pickle.dump(YOURNUMBERDATA, open(folder+'_yourNumberData.p', 'wb'))\n",
    "else:\n",
    "    TOTALNUMBERDATA = [mostFrequentMonth, mostFrequentDay, mostFrequentHour, wordCount, wordString]\n",
    "    pickle.dump(TOTALNUMBERDATA, open(folder+'_totalNumberData.p', 'wb'))\n",
    "\n"
   ]
  },
  {
   "cell_type": "code",
   "execution_count": 86,
   "metadata": {
    "collapsed": false,
    "scrolled": true
   },
   "outputs": [
    {
     "data": {
      "text/html": [
       "<iframe id=\"igraph\" scrolling=\"no\" style=\"border:none;\"seamless=\"seamless\" src=\"https://plot.ly/~1IfByLAN2IfByC/564.embed\" height=\"525px\" width=\"100%\"></iframe>"
      ],
      "text/plain": [
       "<plotly.tools.PlotlyDisplay object>"
      ]
     },
     "execution_count": 86,
     "metadata": {},
     "output_type": "execute_result"
    }
   ],
   "source": [
    "#### make plots with plotly plug in\n",
    "## plot the most common words \n",
    "topWord.iplot(kind='scatter', x='Word', y='Count', mode='markers', world_readable=True)"
   ]
  },
  {
   "cell_type": "code",
   "execution_count": null,
   "metadata": {
    "collapsed": false
   },
   "outputs": [],
   "source": [
    "#### make plots with plotly plug in\n",
    "\n",
    "## plot the most frequent hour\n",
    "mostFrequentHour.iplot(world_readable=True)"
   ]
  },
  {
   "cell_type": "code",
   "execution_count": 292,
   "metadata": {
    "collapsed": false
   },
   "outputs": [
    {
     "ename": "TypeError",
     "evalue": "cannot convert the series to <type 'int'>",
     "output_type": "error",
     "traceback": [
      "\u001b[0;31m---------------------------------------------------------------------------\u001b[0m",
      "\u001b[0;31mTypeError\u001b[0m                                 Traceback (most recent call last)",
      "\u001b[0;32m<ipython-input-292-c31af4ce760f>\u001b[0m in \u001b[0;36m<module>\u001b[0;34m()\u001b[0m\n\u001b[1;32m      7\u001b[0m \u001b[0mx\u001b[0m \u001b[0;34m=\u001b[0m  \u001b[0mYOURNUMBERDATA\u001b[0m\u001b[0;34m[\u001b[0m\u001b[0;36m3\u001b[0m\u001b[0;34m]\u001b[0m\u001b[0;34m[\u001b[0m\u001b[0mYOURNUMBERDATA\u001b[0m\u001b[0;34m[\u001b[0m\u001b[0;36m3\u001b[0m\u001b[0;34m]\u001b[0m\u001b[0;34m[\u001b[0m\u001b[0;34m'Word'\u001b[0m\u001b[0;34m]\u001b[0m\u001b[0;34m==\u001b[0m \u001b[0mWOI\u001b[0m\u001b[0;34m]\u001b[0m\u001b[0;34m\u001b[0m\u001b[0m\n\u001b[1;32m      8\u001b[0m \u001b[0my\u001b[0m \u001b[0;34m=\u001b[0m  \u001b[0;34m(\u001b[0m\u001b[0mTOTALNUMBERDATA\u001b[0m\u001b[0;34m[\u001b[0m\u001b[0;36m3\u001b[0m\u001b[0;34m]\u001b[0m\u001b[0;34m[\u001b[0m\u001b[0mTOTALNUMBERDATA\u001b[0m\u001b[0;34m[\u001b[0m\u001b[0;36m3\u001b[0m\u001b[0;34m]\u001b[0m\u001b[0;34m[\u001b[0m\u001b[0;34m'Word'\u001b[0m\u001b[0;34m]\u001b[0m\u001b[0;34m==\u001b[0m \u001b[0mWOI\u001b[0m\u001b[0;34m]\u001b[0m\u001b[0;34m)\u001b[0m\u001b[0;34m\u001b[0m\u001b[0m\n\u001b[0;32m----> 9\u001b[0;31m \u001b[0;32mprint\u001b[0m \u001b[0;34m\"you said {WOI} {X} times\"\u001b[0m\u001b[0;34m.\u001b[0m\u001b[0mformat\u001b[0m\u001b[0;34m(\u001b[0m\u001b[0mWOI\u001b[0m\u001b[0;34m=\u001b[0m\u001b[0mWOI\u001b[0m\u001b[0;34m,\u001b[0m \u001b[0mX\u001b[0m\u001b[0;34m=\u001b[0m\u001b[0mint\u001b[0m\u001b[0;34m(\u001b[0m\u001b[0mx\u001b[0m\u001b[0;34m[\u001b[0m\u001b[0;34m'Count'\u001b[0m\u001b[0;34m]\u001b[0m\u001b[0;34m)\u001b[0m\u001b[0;34m)\u001b[0m\u001b[0;34m\u001b[0m\u001b[0m\n\u001b[0m\u001b[1;32m     10\u001b[0m \u001b[0;32mprint\u001b[0m \u001b[0;34m\"they said {WOI} {X} times\"\u001b[0m\u001b[0;34m.\u001b[0m\u001b[0mformat\u001b[0m\u001b[0;34m(\u001b[0m\u001b[0mWOI\u001b[0m\u001b[0;34m=\u001b[0m\u001b[0mWOI\u001b[0m\u001b[0;34m,\u001b[0m \u001b[0mX\u001b[0m \u001b[0;34m=\u001b[0m \u001b[0mint\u001b[0m\u001b[0;34m(\u001b[0m\u001b[0my\u001b[0m\u001b[0;34m[\u001b[0m\u001b[0;34m'Count'\u001b[0m\u001b[0;34m]\u001b[0m\u001b[0;34m)\u001b[0m \u001b[0;34m-\u001b[0m \u001b[0mint\u001b[0m\u001b[0;34m(\u001b[0m\u001b[0mx\u001b[0m\u001b[0;34m[\u001b[0m\u001b[0;34m'Count'\u001b[0m\u001b[0;34m]\u001b[0m\u001b[0;34m)\u001b[0m \u001b[0;34m)\u001b[0m\u001b[0;34m\u001b[0m\u001b[0m\n\u001b[1;32m     11\u001b[0m \u001b[0;34m\u001b[0m\u001b[0m\n",
      "\u001b[0;32m//anaconda/lib/python2.7/site-packages/pandas/core/series.pyc\u001b[0m in \u001b[0;36mwrapper\u001b[0;34m(self)\u001b[0m\n\u001b[1;32m     75\u001b[0m             \u001b[0;32mreturn\u001b[0m \u001b[0mconverter\u001b[0m\u001b[0;34m(\u001b[0m\u001b[0mself\u001b[0m\u001b[0;34m.\u001b[0m\u001b[0miloc\u001b[0m\u001b[0;34m[\u001b[0m\u001b[0;36m0\u001b[0m\u001b[0;34m]\u001b[0m\u001b[0;34m)\u001b[0m\u001b[0;34m\u001b[0m\u001b[0m\n\u001b[1;32m     76\u001b[0m         raise TypeError(\n\u001b[0;32m---> 77\u001b[0;31m             \"cannot convert the series to {0}\".format(str(converter)))\n\u001b[0m\u001b[1;32m     78\u001b[0m     \u001b[0;32mreturn\u001b[0m \u001b[0mwrapper\u001b[0m\u001b[0;34m\u001b[0m\u001b[0m\n\u001b[1;32m     79\u001b[0m \u001b[0;34m\u001b[0m\u001b[0m\n",
      "\u001b[0;31mTypeError\u001b[0m: cannot convert the series to <type 'int'>"
     ]
    }
   ],
   "source": [
    "#### make plots with plotly plug in\n",
    "YOURNUMBERDATA = pickle.load(open(folder+'_yourNumberData.p', 'rb'))\n",
    "TOTALNUMBERDATA = pickle.load(open(folder+'_totalNumberData.p', 'rb'))\n",
    "\n",
    "WOI = 'bell'\n",
    "\n",
    "x =  YOURNUMBERDATA[3][YOURNUMBERDATA[3]['Word']== WOI]\n",
    "y =  (TOTALNUMBERDATA[3][TOTALNUMBERDATA[3]['Word']== WOI])\n",
    "print \"you said {WOI} {X} times\".format(WOI=WOI, X=int(x['Count']))\n",
    "print \"they said {WOI} {X} times\".format(WOI=WOI, X = int(y['Count']) - int(x['Count']) )\n",
    "\n"
   ]
  },
  {
   "cell_type": "code",
   "execution_count": 315,
   "metadata": {
    "collapsed": false,
    "scrolled": true
   },
   "outputs": [
    {
     "name": "stdout",
     "output_type": "stream",
     "text": [
      "taco bell was said 91 times\n"
     ]
    }
   ],
   "source": [
    "#### go through and search for phrases (only set up for all of time)\n",
    "    # true means I said it\n",
    "    # false means we all said it\n",
    "\n",
    "sent = False\n",
    "\n",
    "\n",
    "# word to look for\n",
    "words = [\"taco bell\"]\n",
    "#words = ['duh', 'luv u', 'luv you']\n",
    "\n",
    "count=0\n",
    "for i in range(len(cleanTextList)):\n",
    "    for word in words:\n",
    "        if sent == True:\n",
    "            if (word.lower() in cleanTextList[i].lower() and PHONENUMBER in cleanTextList[i]):\n",
    "                count = count+1\n",
    "        elif sent == False: \n",
    "            if (word.lower() in cleanTextList[i].lower()):\n",
    "                count = count+1\n",
    "                \n",
    "            \n",
    "print \"{word} was said {count} times\".format(word=word, count=count)"
   ]
  },
  {
   "cell_type": "code",
   "execution_count": 294,
   "metadata": {
    "collapsed": false,
    "scrolled": true
   },
   "outputs": [],
   "source": [
    "def plotTimeComp(yourTimeData, totalTimeData, plotTitle, personName):\n",
    "    \n",
    "    # find the total number sent\n",
    "    total = int(sum(totalTimeData['Count']))\n",
    "    \n",
    "    # combine into new data frame\n",
    "    newdf = pd.concat([yourTimeData['Count']/total, (totalTimeData['Count']-yourTimeData['Count'])/total], axis=1)\n",
    "    newdf.columns = ['Brit', personName]\n",
    "    \n",
    "    # make plot \n",
    "    newdf.iplot(world_readable=True, yTitle='Percent of Total Texts'.format(total=int(total)),\\\n",
    "                xTitle= 'Time of Day (24 hr)', title=plotTitle+ ' ({T} Texts Total)'.format(T=total)\\\n",
    "                , kind='bar', barmode='stack', filename=plotTitle)\n",
    "    \n",
    "    return newdf"
   ]
  },
  {
   "cell_type": "code",
   "execution_count": 295,
   "metadata": {
    "collapsed": false
   },
   "outputs": [],
   "source": [
    "newdf = plotTimeComp(YOURNUMBERDATA[2], TOTALNUMBERDATA[2], 'Text Message Breakdown: Brittany vs. Tanya', 'Tanya')"
   ]
  },
  {
   "cell_type": "code",
   "execution_count": null,
   "metadata": {
    "collapsed": false
   },
   "outputs": [],
   "source": [
    "#### make plots with plotly plug in\n",
    "\n",
    "## plot the most frequent days\n",
    "mostFrequentDay.iplot(world_readable=True)"
   ]
  },
  {
   "cell_type": "code",
   "execution_count": 304,
   "metadata": {
    "collapsed": false
   },
   "outputs": [
    {
     "data": {
      "text/html": [
       "<div>\n",
       "<table border=\"1\" class=\"dataframe\">\n",
       "  <thead>\n",
       "    <tr style=\"text-align: right;\">\n",
       "      <th></th>\n",
       "      <th>Word</th>\n",
       "      <th>Count</th>\n",
       "    </tr>\n",
       "  </thead>\n",
       "  <tbody>\n",
       "    <tr>\n",
       "      <th>3652</th>\n",
       "      <td>taco</td>\n",
       "      <td>16</td>\n",
       "    </tr>\n",
       "  </tbody>\n",
       "</table>\n",
       "</div>"
      ],
      "text/plain": [
       "      Word  Count\n",
       "3652  taco     16"
      ]
     },
     "execution_count": 304,
     "metadata": {},
     "output_type": "execute_result"
    }
   ],
   "source": [
    "TOTALNUMBERDATA[3][TOTALNUMBERDATA[3]['Word'] == 'taco']"
   ]
  },
  {
   "cell_type": "code",
   "execution_count": 305,
   "metadata": {
    "collapsed": false
   },
   "outputs": [
    {
     "data": {
      "text/html": [
       "<div>\n",
       "<table border=\"1\" class=\"dataframe\">\n",
       "  <thead>\n",
       "    <tr style=\"text-align: right;\">\n",
       "      <th></th>\n",
       "      <th>Word</th>\n",
       "      <th>Count</th>\n",
       "    </tr>\n",
       "  </thead>\n",
       "  <tbody>\n",
       "  </tbody>\n",
       "</table>\n",
       "</div>"
      ],
      "text/plain": [
       "Empty DataFrame\n",
       "Columns: [Word, Count]\n",
       "Index: []"
      ]
     },
     "execution_count": 305,
     "metadata": {},
     "output_type": "execute_result"
    }
   ],
   "source": [
    "YOURNUMBERDATA[3][YOURNUMBERDATA[3]['Word']==\"taco\"]"
   ]
  },
  {
   "cell_type": "code",
   "execution_count": null,
   "metadata": {
    "collapsed": true
   },
   "outputs": [],
   "source": []
  }
 ],
 "metadata": {
  "kernelspec": {
   "display_name": "Python 2",
   "language": "python",
   "name": "python2"
  },
  "language_info": {
   "codemirror_mode": {
    "name": "ipython",
    "version": 2
   },
   "file_extension": ".py",
   "mimetype": "text/x-python",
   "name": "python",
   "nbconvert_exporter": "python",
   "pygments_lexer": "ipython2",
   "version": "2.7.10"
  }
 },
 "nbformat": 4,
 "nbformat_minor": 0
}
